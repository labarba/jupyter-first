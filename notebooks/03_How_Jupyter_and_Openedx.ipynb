{
 "cells": [
  {
   "cell_type": "markdown",
   "metadata": {},
   "source": [
    "# How-to Guide"
   ]
  },
  {
   "cell_type": "markdown",
   "metadata": {},
   "source": [
    "## Using video material in Open edX\n",
    "\n",
    "Sometimes one wishes to add videos in the learning sequences. Open edX includes an excellent video player that can display timed transcripts. Very handy, and accessible. You add a Video component into a course Unit in Open edX Studio (one of the big green buttons). It will create the component with a default video, and you need to select \"Edit\" to change the URL to the correct video you want to embed. The next step is to prepare the transcript.\n",
    "\n",
    "In YouTube, we open the Transcript pane by clicking on the three dots next to \"Save\" (see screenshot below). A tricky mousing operation is then needed to select the complete transcript from the 00:00 time stamp, all the way to the end. Copy and paste the transcript into a text editor, and save to a plain text file. You can then upload the text file to the [GoTranscript](https://gotranscript.com/subtitle-converter) online converter to get an .srt file. Edit the video component again in Studio to add the .srt file, and your timed transcript will now appear in the player."
   ]
  },
  {
   "cell_type": "markdown",
   "metadata": {},
   "source": [
    "<img src=\"../images/youtube_opentranscript.png\" style=\"width: 400px;\"/> \n",
    "#### Screenshot showing where to open the YouTube video transcript.\n",
    "\n",
    "**Note**: if you are the owner of the video (i.e., you uploaded it to your YouTube channel), you can download the .srt file directly from YouTube."
   ]
  }
 ],
 "metadata": {
  "kernelspec": {
   "display_name": "Python 3",
   "language": "python",
   "name": "python3"
  },
  "language_info": {
   "codemirror_mode": {
    "name": "ipython",
    "version": 3
   },
   "file_extension": ".py",
   "mimetype": "text/x-python",
   "name": "python",
   "nbconvert_exporter": "python",
   "pygments_lexer": "ipython3",
   "version": "3.6.8"
  }
 },
 "nbformat": 4,
 "nbformat_minor": 2
}
